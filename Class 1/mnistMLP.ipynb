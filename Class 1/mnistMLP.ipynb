{
 "cells": [
  {
   "cell_type": "code",
   "execution_count": 1,
   "metadata": {},
   "outputs": [
    {
     "name": "stderr",
     "output_type": "stream",
     "text": [
      "/usr/local/lib/python2.7/dist-packages/h5py/__init__.py:36: FutureWarning: Conversion of the second argument of issubdtype from `float` to `np.floating` is deprecated. In future, it will be treated as `np.float64 == np.dtype(float).type`.\n",
      "  from ._conv import register_converters as _register_converters\n"
     ]
    }
   ],
   "source": [
    "import tensorflow as tf\n",
    "import tensorflow.contrib.layers as layers\n",
    "\n",
    "from tensorflow.python import debug as tf_debug"
   ]
  },
  {
   "cell_type": "code",
   "execution_count": 2,
   "metadata": {
    "collapsed": true
   },
   "outputs": [],
   "source": [
    "# Network Parameters\n",
    "n_hidden = 30\n",
    "n_classes = 10\n",
    "n_input = 784\n",
    "\n",
    "# Hyperparameters\n",
    "batch_size = 200\n",
    "eta = 0.001\n",
    "max_epoch = 10"
   ]
  },
  {
   "cell_type": "code",
   "execution_count": 3,
   "metadata": {},
   "outputs": [
    {
     "name": "stdout",
     "output_type": "stream",
     "text": [
      "WARNING:tensorflow:From <ipython-input-3-53e8a8d3cdba>:3: read_data_sets (from tensorflow.contrib.learn.python.learn.datasets.mnist) is deprecated and will be removed in a future version.\n",
      "Instructions for updating:\n",
      "Please use alternatives such as official/mnist/dataset.py from tensorflow/models.\n",
      "WARNING:tensorflow:From /usr/local/lib/python2.7/dist-packages/tensorflow/contrib/learn/python/learn/datasets/mnist.py:260: maybe_download (from tensorflow.contrib.learn.python.learn.datasets.base) is deprecated and will be removed in a future version.\n",
      "Instructions for updating:\n",
      "Please write your own downloading logic.\n",
      "WARNING:tensorflow:From /usr/local/lib/python2.7/dist-packages/tensorflow/contrib/learn/python/learn/datasets/base.py:252: wrapped_fn (from tensorflow.contrib.learn.python.learn.datasets.base) is deprecated and will be removed in a future version.\n",
      "Instructions for updating:\n",
      "Please use urllib or similar directly.\n",
      "Successfully downloaded train-images-idx3-ubyte.gz 9912422 bytes.\n",
      "WARNING:tensorflow:From /usr/local/lib/python2.7/dist-packages/tensorflow/contrib/learn/python/learn/datasets/mnist.py:262: extract_images (from tensorflow.contrib.learn.python.learn.datasets.mnist) is deprecated and will be removed in a future version.\n",
      "Instructions for updating:\n",
      "Please use tf.data to implement this functionality.\n",
      "Extracting /tmp/data/train-images-idx3-ubyte.gz\n",
      "Successfully downloaded train-labels-idx1-ubyte.gz 28881 bytes.\n",
      "WARNING:tensorflow:From /usr/local/lib/python2.7/dist-packages/tensorflow/contrib/learn/python/learn/datasets/mnist.py:267: extract_labels (from tensorflow.contrib.learn.python.learn.datasets.mnist) is deprecated and will be removed in a future version.\n",
      "Instructions for updating:\n",
      "Please use tf.data to implement this functionality.\n",
      "Extracting /tmp/data/train-labels-idx1-ubyte.gz\n",
      "WARNING:tensorflow:From /usr/local/lib/python2.7/dist-packages/tensorflow/contrib/learn/python/learn/datasets/mnist.py:110: dense_to_one_hot (from tensorflow.contrib.learn.python.learn.datasets.mnist) is deprecated and will be removed in a future version.\n",
      "Instructions for updating:\n",
      "Please use tf.one_hot on tensors.\n",
      "Successfully downloaded t10k-images-idx3-ubyte.gz 1648877 bytes.\n",
      "Extracting /tmp/data/t10k-images-idx3-ubyte.gz\n",
      "Successfully downloaded t10k-labels-idx1-ubyte.gz 4542 bytes.\n",
      "Extracting /tmp/data/t10k-labels-idx1-ubyte.gz\n",
      "WARNING:tensorflow:From /usr/local/lib/python2.7/dist-packages/tensorflow/contrib/learn/python/learn/datasets/mnist.py:290: __init__ (from tensorflow.contrib.learn.python.learn.datasets.mnist) is deprecated and will be removed in a future version.\n",
      "Instructions for updating:\n",
      "Please use alternatives such as official/mnist/dataset.py from tensorflow/models.\n"
     ]
    }
   ],
   "source": [
    "# MNIST input data\n",
    "from tensorflow.examples.tutorials.mnist import input_data\n",
    "mnist = input_data.read_data_sets(\"/tmp/data/\", one_hot=True)"
   ]
  },
  {
   "cell_type": "code",
   "execution_count": 4,
   "metadata": {
    "collapsed": true
   },
   "outputs": [],
   "source": [
    "def multilayer_perceptron(x):\n",
    "    fc1 = layers.fully_connected(x, n_hidden, activation_fn=tf.nn.relu, scope='fc1')\n",
    "    #fc2 = layers.fully_connected(fc1, 256, activation_fn=tf.nn.relu, scope='fc2')\n",
    "    out = layers.fully_connected(fc1, n_classes, activation_fn=None, scope='out')\n",
    "    return out"
   ]
  },
  {
   "cell_type": "code",
   "execution_count": 5,
   "metadata": {},
   "outputs": [
    {
     "name": "stdout",
     "output_type": "stream",
     "text": [
      "WARNING:tensorflow:From <ipython-input-5-3277067b619f>:6: softmax_cross_entropy_with_logits (from tensorflow.python.ops.nn_ops) is deprecated and will be removed in a future version.\n",
      "Instructions for updating:\n",
      "\n",
      "Future major versions of TensorFlow will allow gradients to flow\n",
      "into the labels input on backprop by default.\n",
      "\n",
      "See @{tf.nn.softmax_cross_entropy_with_logits_v2}.\n",
      "\n"
     ]
    }
   ],
   "source": [
    "# build model, loss, and train op\n",
    "x = tf.placeholder(tf.float32, [None, n_input], name='placeholder_x')\n",
    "y = tf.placeholder(tf.float32, [None, n_classes], name='placeholder_y')\n",
    "y_hat = multilayer_perceptron(x)\n",
    "\n",
    "loss = tf.reduce_mean(tf.nn.softmax_cross_entropy_with_logits(logits=y_hat, labels=y))\n",
    "train = tf.train.AdamOptimizer(learning_rate= eta).minimize(loss)\n",
    "init = tf.global_variables_initializer()"
   ]
  },
  {
   "cell_type": "code",
   "execution_count": 7,
   "metadata": {},
   "outputs": [
    {
     "name": "stdout",
     "output_type": "stream",
     "text": [
      "Epoch 00, Loss = 0.630945\n",
      "Epoch 01, Loss = 0.285124\n",
      "Epoch 02, Loss = 0.236942\n",
      "Epoch 03, Loss = 0.207127\n",
      "Epoch 04, Loss = 0.186678\n",
      "Epoch 05, Loss = 0.170797\n",
      "Epoch 06, Loss = 0.159054\n",
      "Epoch 07, Loss = 0.148208\n",
      "Epoch 08, Loss = 0.138801\n",
      "Epoch 09, Loss = 0.131332\n",
      "Epoch 10, Loss = 0.124562\n",
      "Epoch 11, Loss = 0.118811\n",
      "Epoch 12, Loss = 0.113064\n",
      "Epoch 13, Loss = 0.107810\n",
      "Epoch 14, Loss = 0.103738\n",
      "Epoch 15, Loss = 0.099002\n",
      "Epoch 16, Loss = 0.094922\n",
      "Epoch 17, Loss = 0.091728\n",
      "Epoch 18, Loss = 0.088405\n",
      "Epoch 19, Loss = 0.085233\n",
      "Epoch 20, Loss = 0.082112\n",
      "Epoch 21, Loss = 0.080178\n",
      "Epoch 22, Loss = 0.077225\n",
      "Epoch 23, Loss = 0.074255\n",
      "Epoch 24, Loss = 0.072466\n",
      "Epoch 25, Loss = 0.069914\n",
      "Epoch 26, Loss = 0.068395\n",
      "Epoch 27, Loss = 0.065984\n",
      "Epoch 28, Loss = 0.063906\n",
      "Epoch 29, Loss = 0.062478\n",
      "Epoch 30, Loss = 0.061029\n",
      "Epoch 31, Loss = 0.059067\n",
      "Epoch 32, Loss = 0.057373\n",
      "Epoch 33, Loss = 0.055870\n",
      "Epoch 34, Loss = 0.054584\n",
      "Epoch 35, Loss = 0.053227\n",
      "Epoch 36, Loss = 0.051422\n",
      "Epoch 37, Loss = 0.050574\n",
      "Epoch 38, Loss = 0.049237\n",
      "Epoch 39, Loss = 0.048164\n",
      "Epoch 40, Loss = 0.046568\n",
      "Epoch 41, Loss = 0.045768\n",
      "Epoch 42, Loss = 0.044237\n",
      "Epoch 43, Loss = 0.043068\n",
      "Epoch 44, Loss = 0.042125\n",
      "Epoch 45, Loss = 0.041051\n",
      "Epoch 46, Loss = 0.040007\n",
      "Epoch 47, Loss = 0.038853\n",
      "Epoch 48, Loss = 0.037818\n",
      "Epoch 49, Loss = 0.036977\n",
      "Epoch 50, Loss = 0.036432\n",
      "Epoch 51, Loss = 0.035572\n",
      "Epoch 52, Loss = 0.034308\n",
      "Epoch 53, Loss = 0.033310\n",
      "Epoch 54, Loss = 0.032982\n",
      "Epoch 55, Loss = 0.032422\n",
      "Epoch 56, Loss = 0.032072\n",
      "Epoch 57, Loss = 0.031001\n",
      "Epoch 58, Loss = 0.030064\n",
      "Epoch 59, Loss = 0.028867\n",
      "Epoch 60, Loss = 0.028952\n",
      "Epoch 61, Loss = 0.027661\n",
      "Epoch 62, Loss = 0.027010\n",
      "Epoch 63, Loss = 0.026353\n",
      "Epoch 64, Loss = 0.025675\n",
      "Epoch 65, Loss = 0.025131\n",
      "Epoch 66, Loss = 0.024438\n",
      "Epoch 67, Loss = 0.024500\n",
      "Epoch 68, Loss = 0.024003\n",
      "Epoch 69, Loss = 0.023436\n",
      "Epoch 70, Loss = 0.022603\n",
      "Epoch 71, Loss = 0.022392\n",
      "Epoch 72, Loss = 0.021042\n",
      "Epoch 73, Loss = 0.020360\n",
      "Epoch 74, Loss = 0.020416\n",
      "Epoch 75, Loss = 0.019147\n",
      "Epoch 76, Loss = 0.019524\n",
      "Epoch 77, Loss = 0.018415\n",
      "Epoch 78, Loss = 0.018682\n",
      "Epoch 79, Loss = 0.018231\n",
      "Epoch 80, Loss = 0.017103\n",
      "Epoch 81, Loss = 0.016845\n",
      "Epoch 82, Loss = 0.016580\n",
      "Epoch 83, Loss = 0.016490\n",
      "Epoch 84, Loss = 0.015682\n",
      "Epoch 85, Loss = 0.015278\n",
      "Epoch 86, Loss = 0.014830\n",
      "Epoch 87, Loss = 0.014440\n",
      "Epoch 88, Loss = 0.013736\n",
      "Epoch 89, Loss = 0.013672\n",
      "Epoch 90, Loss = 0.012949\n",
      "Epoch 91, Loss = 0.012783\n",
      "Epoch 92, Loss = 0.012410\n",
      "Epoch 93, Loss = 0.012700\n",
      "Epoch 94, Loss = 0.012252\n",
      "Epoch 95, Loss = 0.011825\n",
      "Epoch 96, Loss = 0.010735\n",
      "Epoch 97, Loss = 0.011109\n",
      "Epoch 98, Loss = 0.010874\n",
      "Epoch 99, Loss = 0.010714\n",
      "('Accuracy%:', 96.23000025749207)\n"
     ]
    }
   ],
   "source": [
    "with tf.Session() as sess:\n",
    "    sess.run(init)\n",
    "    for epoch in range(100):\n",
    "        epoch_loss = 0.0\n",
    "        batch_steps = int(mnist.train.num_examples / batch_size)\n",
    "        for i in range(batch_steps):\n",
    "            batch_x, batch_y = mnist.train.next_batch(batch_size)\n",
    "            _, c = sess.run([train, loss],\n",
    "                               feed_dict={x: batch_x, y: batch_y})\n",
    "            epoch_loss += c / batch_steps\n",
    "        print ('Epoch %02d, Loss = %.6f' % (epoch, epoch_loss))\n",
    "\n",
    "    # Test model\n",
    "    correct_prediction = tf.equal(tf.argmax(y_hat, 1), tf.argmax(y, 1))\n",
    "    accuracy = tf.reduce_mean(tf.cast(correct_prediction, tf.float32))\n",
    "    print ('Accuracy%:', accuracy.eval({x: mnist.test.images, y: mnist.test.labels})*100)\n"
   ]
  },
  {
   "cell_type": "code",
   "execution_count": null,
   "metadata": {
    "collapsed": true
   },
   "outputs": [],
   "source": []
  }
 ],
 "metadata": {
  "kernelspec": {
   "display_name": "Python 2",
   "language": "python",
   "name": "python2"
  },
  "language_info": {
   "codemirror_mode": {
    "name": "ipython",
    "version": 2
   },
   "file_extension": ".py",
   "mimetype": "text/x-python",
   "name": "python",
   "nbconvert_exporter": "python",
   "pygments_lexer": "ipython2",
   "version": "2.7.12"
  }
 },
 "nbformat": 4,
 "nbformat_minor": 2
}
