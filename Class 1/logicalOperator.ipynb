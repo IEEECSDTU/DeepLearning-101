{
 "cells": [
  {
   "cell_type": "markdown",
   "metadata": {},
   "source": [
    "Import required Libraries"
   ]
  },
  {
   "cell_type": "code",
   "execution_count": 1,
   "metadata": {},
   "outputs": [
    {
     "name": "stderr",
     "output_type": "stream",
     "text": [
      "/usr/local/lib/python2.7/dist-packages/h5py/__init__.py:36: FutureWarning: Conversion of the second argument of issubdtype from `float` to `np.floating` is deprecated. In future, it will be treated as `np.float64 == np.dtype(float).type`.\n",
      "  from ._conv import register_converters as _register_converters\n"
     ]
    }
   ],
   "source": [
    "import tensorflow as tf\n",
    "import tflearn"
   ]
  },
  {
   "cell_type": "markdown",
   "metadata": {},
   "source": [
    "#### NOT OPERATOR"
   ]
  },
  {
   "cell_type": "code",
   "execution_count": 2,
   "metadata": {
    "collapsed": true
   },
   "outputs": [],
   "source": [
    "X = [[0.],[1.]]\n",
    "Y= [[1.],[0.]]"
   ]
  },
  {
   "cell_type": "code",
   "execution_count": 3,
   "metadata": {},
   "outputs": [
    {
     "name": "stdout",
     "output_type": "stream",
     "text": [
      "Training Step: 1000  | total loss: \u001b[1m\u001b[32m0.00001\u001b[0m\u001b[0m | time: 0.003s\n",
      "\u001b[2K\r",
      "| SGD | epoch: 1000 | loss: 0.00001 -- iter: 2/2\n"
     ]
    }
   ],
   "source": [
    "with tf.Graph().as_default():\n",
    "    g = tflearn.input_data(shape=[None,1])\n",
    "    g = tflearn.fully_connected(g, 128, activation='linear')\n",
    "    g = tflearn.fully_connected(g, 128, activation='linear')\n",
    "    g = tflearn.fully_connected(g, 1, activation='sigmoid')\n",
    "    g = tflearn.regression(g, optimizer='sgd', learning_rate=2.,\n",
    "                          loss='mean_square')\n",
    "    \n",
    "    m = tflearn.DNN(g)\n",
    "    m.fit(X, Y, n_epoch=1000, snapshot_epoch=False)"
   ]
  },
  {
   "cell_type": "code",
   "execution_count": 4,
   "metadata": {},
   "outputs": [
    {
     "name": "stdout",
     "output_type": "stream",
     "text": [
      "Testing NOT operator\n",
      "NOT 0: [[0.9967871]]\n",
      "NOT 1: [[0.00254807]]\n"
     ]
    }
   ],
   "source": [
    "print \"Testing NOT operator\"\n",
    "print \"NOT 0:\", m.predict([[0]])\n",
    "print \"NOT 1:\", m.predict([[1]])"
   ]
  },
  {
   "cell_type": "markdown",
   "metadata": {},
   "source": [
    "#### OR OPERATOR"
   ]
  },
  {
   "cell_type": "code",
   "execution_count": 5,
   "metadata": {
    "collapsed": true
   },
   "outputs": [],
   "source": [
    "L = [[0.,0.],[0.,1.],[1.,0.],[1.,1.]]\n",
    "M = [[0.],[1.],[1.],[1.]]"
   ]
  },
  {
   "cell_type": "code",
   "execution_count": 6,
   "metadata": {},
   "outputs": [
    {
     "name": "stdout",
     "output_type": "stream",
     "text": [
      "Training Step: 1000  | total loss: \u001b[1m\u001b[32m0.00038\u001b[0m\u001b[0m | time: 0.007s\n",
      "\u001b[2K\r",
      "| SGD | epoch: 1000 | loss: 0.00038 -- iter: 4/4\n"
     ]
    }
   ],
   "source": [
    "with tf.Graph().as_default():\n",
    "    g = tflearn.input_data(shape=[None,2])\n",
    "    g = tflearn.fully_connected(g, 128, activation='linear')\n",
    "    g = tflearn.fully_connected(g, 128, activation='linear')\n",
    "    g = tflearn.fully_connected(g, 1, activation='sigmoid')\n",
    "    g = tflearn.regression(g, optimizer='sgd', learning_rate=2.,\n",
    "                          loss='mean_square')\n",
    "    \n",
    "    m = tflearn.DNN(g)\n",
    "    m.fit(L, M, n_epoch=1000, snapshot_epoch=False)"
   ]
  },
  {
   "cell_type": "code",
   "execution_count": 7,
   "metadata": {},
   "outputs": [
    {
     "name": "stdout",
     "output_type": "stream",
     "text": [
      "Testing OR operator\n",
      "0 or 0: [[0.01297431]]\n",
      "0 or 1: [[0.99381727]]\n",
      "1 or 0: [[0.9943047]]\n",
      "1 or 1: [[0.9999995]]\n"
     ]
    }
   ],
   "source": [
    "print \"Testing OR operator\"\n",
    "print \"0 or 0:\", m.predict([[0.,0.]])\n",
    "print \"0 or 1:\", m.predict([[0.,1.]])\n",
    "print \"1 or 0:\", m.predict([[1.,0.]])\n",
    "print \"1 or 1:\", m.predict([[1.,1.]])"
   ]
  },
  {
   "cell_type": "markdown",
   "metadata": {
    "collapsed": true
   },
   "source": [
    "##### AND OPERATOR"
   ]
  },
  {
   "cell_type": "code",
   "execution_count": 8,
   "metadata": {
    "collapsed": true
   },
   "outputs": [],
   "source": [
    "K = [[0.,0.],[0.,1.],[1.,0.],[1.,1.]]\n",
    "R = [[0.],[0.],[0.],[1.]]"
   ]
  },
  {
   "cell_type": "code",
   "execution_count": 9,
   "metadata": {},
   "outputs": [
    {
     "name": "stdout",
     "output_type": "stream",
     "text": [
      "Training Step: 1000  | total loss: \u001b[1m\u001b[32m0.00038\u001b[0m\u001b[0m | time: 0.002s\n",
      "\u001b[2K\r",
      "| SGD | epoch: 1000 | loss: 0.00038 -- iter: 4/4\n"
     ]
    }
   ],
   "source": [
    "with tf.Graph().as_default():\n",
    "    g=tflearn.input_data(shape=[None,2])\n",
    "    g=tflearn.fully_connected(g, 128, activation='linear')\n",
    "    g=tflearn.fully_connected(g, 128, activation='linear')\n",
    "    g=tflearn.fully_connected(g, 1, activation='sigmoid')\n",
    "    g=tflearn.regression(g, optimizer='sgd', learning_rate=2.,\n",
    "                        loss='mean_square')\n",
    "    \n",
    "    m=tflearn.DNN(g)\n",
    "    m.fit(K, R, n_epoch=1000, snapshot_epoch=False)"
   ]
  },
  {
   "cell_type": "code",
   "execution_count": 10,
   "metadata": {},
   "outputs": [
    {
     "name": "stdout",
     "output_type": "stream",
     "text": [
      "Testing AND operator\n",
      "0 or 0: [[1.037728e-06]]\n",
      "0 or 1: [[0.01206735]]\n",
      "1 or 0: [[0.00698879]]\n",
      "1 or 1: [[0.98807275]]\n"
     ]
    }
   ],
   "source": [
    "print \"Testing AND operator\"\n",
    "print \"0 or 0:\", m.predict([[0.,0.]])\n",
    "print \"0 or 1:\", m.predict([[0.,1.]])\n",
    "print \"1 or 0:\", m.predict([[1.,0.]])\n",
    "print \"1 or 1:\", m.predict([[1.,1.]])"
   ]
  },
  {
   "cell_type": "markdown",
   "metadata": {},
   "source": [
    "#### XOR OPERATOR"
   ]
  },
  {
   "cell_type": "code",
   "execution_count": 11,
   "metadata": {
    "collapsed": true
   },
   "outputs": [],
   "source": [
    "K = [[0.,0.],[0.,1.],[1.,0.],[1.,1.]]\n",
    "R = [[1.],[1.],[1.],[0.]]\n",
    "S = [[0.],[1.],[1.],[1.]]"
   ]
  },
  {
   "cell_type": "code",
   "execution_count": 12,
   "metadata": {},
   "outputs": [
    {
     "name": "stdout",
     "output_type": "stream",
     "text": [
      "Training Step: 1000  | total loss: \u001b[1m\u001b[32m0.03256\u001b[0m\u001b[0m | time: 0.012s\n",
      "\u001b[2K\r",
      "| SGD_0 | epoch: 1000 | loss: 0.00009 -- iter: 4/4\n",
      "\u001b[2K\r",
      "| SGD_1 | epoch: 1000 | loss: 0.03247 -- iter: 4/4\n"
     ]
    }
   ],
   "source": [
    "with tf.Graph().as_default():\n",
    "    g=tflearn.input_data(shape=[None,2])\n",
    "    \n",
    "    gnand=tflearn.fully_connected(g, 32, activation='linear')\n",
    "    gnand=tflearn.fully_connected(gnand, 32, activation='linear')\n",
    "    gnand=tflearn.fully_connected(gnand, 1, activation='sigmoid')\n",
    "    gnand=tflearn.regression(gnand, optimizer='sgd', learning_rate=2.,\n",
    "                        loss='mean_square')\n",
    "    \n",
    "    gor=tflearn.fully_connected(g, 32, activation='linear')\n",
    "    gor=tflearn.fully_connected(gor, 32, activation='linear')\n",
    "    gor=tflearn.fully_connected(gor, 1, activation='sigmoid')\n",
    "    gor=tflearn.regression(gor, optimizer='sgd', learning_rate=2.,\n",
    "                        loss='mean_square')\n",
    "    \n",
    "    gxor=tflearn.merge([gnand, gor], mode='elemwise_mul')\n",
    "    \n",
    "    m=tflearn.DNN(gxor)\n",
    "    m.fit(K,[R, S], n_epoch=1000, snapshot_epoch=False)"
   ]
  },
  {
   "cell_type": "code",
   "execution_count": 26,
   "metadata": {},
   "outputs": [
    {
     "name": "stdout",
     "output_type": "stream",
     "text": [
      "Testing XOR operator\n",
      "0 or 0: [[0.01957503]]\n",
      "0 or 1: [[0.98571014]]\n",
      "1 or 0: [[0.980352]]\n",
      "1 or 1: [[0.01141473]]\n"
     ]
    }
   ],
   "source": [
    "print \"Testing XOR operator\"\n",
    "print \"0 or 0:\", m.predict([[0.,0.]])\n",
    "print \"0 or 1:\", m.predict([[0.,1.]])\n",
    "print \"1 or 0:\", m.predict([[1.,0.]])\n",
    "print \"1 or 1:\", m.predict([[1.,1.]])"
   ]
  },
  {
   "cell_type": "code",
   "execution_count": null,
   "metadata": {
    "collapsed": true
   },
   "outputs": [],
   "source": []
  }
 ],
 "metadata": {
  "kernelspec": {
   "display_name": "Python 2",
   "language": "python",
   "name": "python2"
  },
  "language_info": {
   "codemirror_mode": {
    "name": "ipython",
    "version": 2
   },
   "file_extension": ".py",
   "mimetype": "text/x-python",
   "name": "python",
   "nbconvert_exporter": "python",
   "pygments_lexer": "ipython2",
   "version": "2.7.12"
  }
 },
 "nbformat": 4,
 "nbformat_minor": 2
}
